{
 "cells": [
  {
   "cell_type": "code",
   "execution_count": 2,
   "metadata": {},
   "outputs": [],
   "source": [
    "import json\n",
    "import random\n",
    "import time\n",
    "\n",
    "from faker import Faker\n",
    "from confluent_kafka import Producer\n",
    "from datetime import datetime\n",
    "\n",
    "# Kafka library yang dipakai: kafka-python\n",
    "# Kalo udah terlanjur install kafka library, uninstall librarynya (pip uninstall kafka)\n",
    "\n",
    "# Flink library yang dipakai: apache-flink"
   ]
  },
  {
   "cell_type": "code",
   "execution_count": 3,
   "metadata": {},
   "outputs": [],
   "source": [
    "fake = Faker()\n",
    "\n",
    "def generate_transactions():\n",
    "  # user = fake.simple_profile()\n",
    "\n",
    "  return {\n",
    "    \"transaction_id\": fake.uuid4(),\n",
    "    \"customer_id\": random.randint(1000,10000),\n",
    "    'transaction_timestamp': datetime.now().strftime('%Y-%m-%dT%H:%M:%S.%f%z'),\n",
    "    \"merchant\": random.choice([\"KFC\",\"McDonalds\",\"Cek Min\",\"Sour Sally\", \"Warung Zaonk\", \"Soto Semut\",\"Mamank\"]),\n",
    "    \"transaction_method\": random.choice([\"BRI\",\"BCA\",\"BNI\",\"CIMB Niaga\",\"Mandiri\",\"BTN\"]),\n",
    "    \"transaction_amt\": round(random.uniform(10000, 1000000),2)\n",
    "  }\n",
    "def delivery_report(err, msg):\n",
    "    if err is not None:\n",
    "        print(f'Message delivery failed: {err}')\n",
    "    else:\n",
    "        print(f\"Message delivered to {msg.topic} [{msg.partition()}]\")"
   ]
  },
  {
   "cell_type": "code",
   "execution_count": 18,
   "metadata": {},
   "outputs": [
    {
     "ename": "TopicAlreadyExistsError",
     "evalue": "[Error 36] TopicAlreadyExistsError: Request 'CreateTopicsRequest_v3(create_topic_requests=[(topic='merchant_transactions10', num_partitions=1, replication_factor=1, replica_assignment=[], configs=[])], timeout=30000, validate_only=False)' failed with response 'CreateTopicsResponse_v3(throttle_time_ms=0, topic_errors=[(topic='merchant_transactions10', error_code=36, error_message=\"Topic 'merchant_transactions10' already exists.\")])'.",
     "output_type": "error",
     "traceback": [
      "\u001b[1;31m---------------------------------------------------------------------------\u001b[0m",
      "\u001b[1;31mTopicAlreadyExistsError\u001b[0m                   Traceback (most recent call last)",
      "Cell \u001b[1;32mIn[18], line 10\u001b[0m\n\u001b[0;32m      8\u001b[0m topic_list \u001b[38;5;241m=\u001b[39m []\n\u001b[0;32m      9\u001b[0m topic_list\u001b[38;5;241m.\u001b[39mappend(NewTopic(name\u001b[38;5;241m=\u001b[39m\u001b[38;5;124m\"\u001b[39m\u001b[38;5;124mmerchant_transactions10\u001b[39m\u001b[38;5;124m\"\u001b[39m, num_partitions\u001b[38;5;241m=\u001b[39m\u001b[38;5;241m1\u001b[39m, replication_factor\u001b[38;5;241m=\u001b[39m\u001b[38;5;241m1\u001b[39m))\n\u001b[1;32m---> 10\u001b[0m \u001b[43madmin_client\u001b[49m\u001b[38;5;241;43m.\u001b[39;49m\u001b[43mcreate_topics\u001b[49m\u001b[43m(\u001b[49m\u001b[43mnew_topics\u001b[49m\u001b[38;5;241;43m=\u001b[39;49m\u001b[43mtopic_list\u001b[49m\u001b[43m,\u001b[49m\u001b[43m \u001b[49m\u001b[43mvalidate_only\u001b[49m\u001b[38;5;241;43m=\u001b[39;49m\u001b[38;5;28;43;01mFalse\u001b[39;49;00m\u001b[43m)\u001b[49m\n",
      "File \u001b[1;32mc:\\Users\\Sharing Vision\\.pyenv\\pyenv-win\\versions\\3.9.0\\lib\\site-packages\\kafka\\admin\\client.py:461\u001b[0m, in \u001b[0;36mKafkaAdminClient.create_topics\u001b[1;34m(self, new_topics, timeout_ms, validate_only)\u001b[0m\n\u001b[0;32m    456\u001b[0m     \u001b[38;5;28;01mraise\u001b[39;00m \u001b[38;5;167;01mNotImplementedError\u001b[39;00m(\n\u001b[0;32m    457\u001b[0m         \u001b[38;5;124m\"\u001b[39m\u001b[38;5;124mSupport for CreateTopics v\u001b[39m\u001b[38;5;132;01m{}\u001b[39;00m\u001b[38;5;124m has not yet been added to KafkaAdminClient.\u001b[39m\u001b[38;5;124m\"\u001b[39m\n\u001b[0;32m    458\u001b[0m         \u001b[38;5;241m.\u001b[39mformat(version))\n\u001b[0;32m    459\u001b[0m \u001b[38;5;66;03m# TODO convert structs to a more pythonic interface\u001b[39;00m\n\u001b[0;32m    460\u001b[0m \u001b[38;5;66;03m# TODO raise exceptions if errors\u001b[39;00m\n\u001b[1;32m--> 461\u001b[0m \u001b[38;5;28;01mreturn\u001b[39;00m \u001b[38;5;28;43mself\u001b[39;49m\u001b[38;5;241;43m.\u001b[39;49m\u001b[43m_send_request_to_controller\u001b[49m\u001b[43m(\u001b[49m\u001b[43mrequest\u001b[49m\u001b[43m)\u001b[49m\n",
      "File \u001b[1;32mc:\\Users\\Sharing Vision\\.pyenv\\pyenv-win\\versions\\3.9.0\\lib\\site-packages\\kafka\\admin\\client.py:407\u001b[0m, in \u001b[0;36mKafkaAdminClient._send_request_to_controller\u001b[1;34m(self, request)\u001b[0m\n\u001b[0;32m    405\u001b[0m         \u001b[38;5;28;01mbreak\u001b[39;00m\n\u001b[0;32m    406\u001b[0m     \u001b[38;5;28;01melif\u001b[39;00m error_type \u001b[38;5;129;01mis\u001b[39;00m \u001b[38;5;129;01mnot\u001b[39;00m Errors\u001b[38;5;241m.\u001b[39mNoError:\n\u001b[1;32m--> 407\u001b[0m         \u001b[38;5;28;01mraise\u001b[39;00m error_type(\n\u001b[0;32m    408\u001b[0m             \u001b[38;5;124m\"\u001b[39m\u001b[38;5;124mRequest \u001b[39m\u001b[38;5;124m'\u001b[39m\u001b[38;5;132;01m{}\u001b[39;00m\u001b[38;5;124m'\u001b[39m\u001b[38;5;124m failed with response \u001b[39m\u001b[38;5;124m'\u001b[39m\u001b[38;5;132;01m{}\u001b[39;00m\u001b[38;5;124m'\u001b[39m\u001b[38;5;124m.\u001b[39m\u001b[38;5;124m\"\u001b[39m\n\u001b[0;32m    409\u001b[0m             \u001b[38;5;241m.\u001b[39mformat(request, response))\n\u001b[0;32m    410\u001b[0m \u001b[38;5;28;01melse\u001b[39;00m:\n\u001b[0;32m    411\u001b[0m     \u001b[38;5;28;01mreturn\u001b[39;00m response\n",
      "\u001b[1;31mTopicAlreadyExistsError\u001b[0m: [Error 36] TopicAlreadyExistsError: Request 'CreateTopicsRequest_v3(create_topic_requests=[(topic='merchant_transactions10', num_partitions=1, replication_factor=1, replica_assignment=[], configs=[])], timeout=30000, validate_only=False)' failed with response 'CreateTopicsResponse_v3(throttle_time_ms=0, topic_errors=[(topic='merchant_transactions10', error_code=36, error_message=\"Topic 'merchant_transactions10' already exists.\")])'."
     ]
    }
   ],
   "source": [
    "import socket\n",
    "from kafka.admin import KafkaAdminClient, NewTopic\n",
    "\n",
    "admin_client = KafkaAdminClient(\n",
    "    bootstrap_servers=\"192.168.60.60:9092\"\n",
    ")\n",
    "\n",
    "topic_list = []\n",
    "topic_list.append(NewTopic(name=\"merchant_transactions10\", num_partitions=1, replication_factor=1))\n",
    "admin_client.create_topics(new_topics=topic_list, validate_only=False)"
   ]
  },
  {
   "cell_type": "code",
   "execution_count": 4,
   "metadata": {},
   "outputs": [
    {
     "name": "stdout",
     "output_type": "stream",
     "text": [
      "{'transaction_id': '408b6760-0e7b-4bb2-af6a-01d5a3f7d642', 'customer_id': 9358, 'transaction_timestamp': '2024-07-15T19:54:49.884445', 'merchant': 'Mamank', 'transaction_method': 'CIMB Niaga', 'transaction_amt': 182506.32}\n",
      "{'transaction_id': '7f055eb8-f18c-47ee-b966-64e59e4cad8d', 'customer_id': 3557, 'transaction_timestamp': '2024-07-15T19:54:50.390069', 'merchant': 'McDonalds', 'transaction_method': 'BRI', 'transaction_amt': 956603.73}\n",
      "{'transaction_id': '7d04b9ff-8853-46f0-bf56-d4a89c030088', 'customer_id': 5501, 'transaction_timestamp': '2024-07-15T19:54:50.891724', 'merchant': 'Cek Min', 'transaction_method': 'BRI', 'transaction_amt': 906710.05}\n",
      "{'transaction_id': 'd700245b-bc9d-4c49-b780-88f5b18f8a00', 'customer_id': 8568, 'transaction_timestamp': '2024-07-15T19:54:51.392753', 'merchant': 'KFC', 'transaction_method': 'CIMB Niaga', 'transaction_amt': 504499.29}\n"
     ]
    }
   ],
   "source": [
    "from kafka import KafkaProducer\n",
    "import json\n",
    "\n",
    "\n",
    "topic_name = \"merchant_transactions\"\n",
    "\n",
    "producer = KafkaProducer(bootstrap_servers=\"192.168.60.60:9092\")\n",
    "\n",
    "try:\n",
    "  for i in range(1,5):\n",
    "    transaction = generate_transactions()\n",
    "    print(transaction)\n",
    "    producer.send(\n",
    "      topic=topic_name,\n",
    "      key=transaction['transaction_id'].encode('utf-8'),\n",
    "      value=json.dumps(transaction).encode('utf-8')\n",
    "    )\n",
    "    time.sleep(0.5)\n",
    "  producer.flush()\n",
    "  \n",
    "except BufferError:\n",
    "  print(\"Buffer full! Waiting...\")\n",
    "  time.sleep(1)\n",
    "except Exception as E:\n",
    "  print(E)"
   ]
  },
  {
   "cell_type": "code",
   "execution_count": 43,
   "metadata": {},
   "outputs": [],
   "source": [
    "import logging\n",
    "import os \n",
    "import sys\n",
    "\n",
    "from pyflink.datastream import StreamExecutionEnvironment, RuntimeExecutionMode\n",
    "from pyflink.datastream.connectors.file_system import FileSource, StreamFormat, FileSink, OutputFileConfig, RollingPolicy\n",
    "from pyflink.datastream.connectors.kafka import FlinkKafkaConsumer\n",
    "from pyflink.common.serialization import SimpleStringSchema\n",
    "\n",
    "import urllib\n",
    "\n",
    "# Configure logging\n",
    "logging.basicConfig(level=logging.INFO)\n",
    "logger = logging.getLogger(__name__)\n",
    "\n",
    "try:\n",
    "  env = StreamExecutionEnvironment.get_execution_environment()\n",
    "\n",
    "  # kafka_connector  = os.path.join(os.getcwd(), 'flink_jars','flink-sql-connector-kafka-3.2.0-1.19.jar')\n",
    "  # kafka_client = os.path.join(os.getcwd(), 'flink_jars','kafka-clients-3.7.1.jar')\n",
    "  kafka_connector  = os.path.abspath(os.path.join(os.getcwd(), 'flink_jars','flink-sql-connector-kafka-3.2.0-1.19.jar'))\n",
    "  kafka_client = os.path.abspath(os.path.join(os.getcwd(), 'flink_jars','flink-sql-connector-kafka-3.2.0-1.19.jar'))\n",
    "\n",
    "\n",
    "  env.add_jars(\n",
    "    str(\"file:///\"+ urllib.parse.quote(kafka_connector)),\n",
    "    str(\"file:///\"+ urllib.parse.quote(kafka_client))\n",
    "  )\n",
    "\n",
    "  topic_name = \"merchant_transactions\"\n",
    "  kafka_consumer = FlinkKafkaConsumer(\n",
    "      topics=topic_name,\n",
    "      properties={'bootstrap.servers': 'http://192.168.60.60:9092',\n",
    "                  'group.id': 'flink-group'},\n",
    "      deserialization_schema= SimpleStringSchema(),\n",
    "  )\n",
    "\n",
    "  stream = env.add_source(kafka_consumer)\n",
    "  stream.print()\n",
    "  # stream.map(lambda value: f\"Received: {value}\").print()\n",
    "\n",
    "  # # Execute the Flink job\n",
    "  env.execute(\"Flink Kafka Consumer Example\")\n",
    "except Exception as E:\n",
    "  logger.error(f\"Error in Flink Kafka Consumer Job: {E}\")"
   ]
  },
  {
   "cell_type": "code",
   "execution_count": 40,
   "metadata": {},
   "outputs": [
    {
     "data": {
      "text/plain": [
       "'file%3A//c%3A%5CUsers%5CSharing%20Vision%5CDocuments%5Cbackup%20hans%202%5CDE%5CFlink%5Cvagrant_folder%5Cflink_jars%5Cflink-sql-connector-kafka-3.2.0-1.19.jar'"
      ]
     },
     "execution_count": 40,
     "metadata": {},
     "output_type": "execute_result"
    }
   ],
   "source": []
  },
  {
   "cell_type": "code",
   "execution_count": 2,
   "metadata": {},
   "outputs": [
    {
     "name": "stdout",
     "output_type": "stream",
     "text": [
      "Note: you may need to restart the kernel to use updated packages.\n"
     ]
    },
    {
     "name": "stderr",
     "output_type": "stream",
     "text": [
      "WARNING: Package(s) not found: flink\n"
     ]
    }
   ],
   "source": []
  },
  {
   "cell_type": "code",
   "execution_count": 10,
   "metadata": {},
   "outputs": [
    {
     "data": {
      "text/plain": [
       "<pyflink.datastream.data_stream.DataStream at 0x1f9ad9f9730>"
      ]
     },
     "execution_count": 10,
     "metadata": {},
     "output_type": "execute_result"
    }
   ],
   "source": [
    "ds"
   ]
  },
  {
   "cell_type": "code",
   "execution_count": 6,
   "metadata": {},
   "outputs": [
    {
     "data": {
      "text/plain": [
       "'c:\\\\Users\\\\Sharing Vision\\\\Documents\\\\backup hans 2\\\\DE\\\\Flink\\\\vagrant_folder\\\\flink_jars\\\\flink-sql-connector-kafka-3.2.0-1.19.jar'"
      ]
     },
     "execution_count": 6,
     "metadata": {},
     "output_type": "execute_result"
    }
   ],
   "source": [
    "kafka_connector"
   ]
  },
  {
   "cell_type": "code",
   "execution_count": 9,
   "metadata": {},
   "outputs": [
    {
     "name": "stdout",
     "output_type": "stream",
     "text": [
      "Topic 'merchant_transaction' created successfully\n"
     ]
    }
   ],
   "source": [
    "from confluent_kafka.admin import AdminClient, NewTopic\n",
    "import socket\n",
    "test = socket.gethostname()\n",
    "test\n",
    "\n",
    "admin_client = AdminClient({\n",
    "    \"bootstrap.servers\": \"192.168.60.60:9092\"\n",
    "})\n",
    "\n",
    "topic_list = []\n",
    "topic_list.append(NewTopic(\"merchant_transaction\", 1, 1))\n",
    "fs = admin_client.create_topics(topic_list)\n",
    "\n",
    "# Wait for each operation to finish\n",
    "for topic, f in fs.items():\n",
    "    try:\n",
    "        f.result()  # The result itself is None\n",
    "        print(f\"Topic '{topic}' created successfully\")\n",
    "    except Exception as e:\n",
    "        print(f\"Failed to create topic '{topic}': {e}\")"
   ]
  },
  {
   "cell_type": "code",
   "execution_count": 30,
   "metadata": {},
   "outputs": [
    {
     "name": "stdout",
     "output_type": "stream",
     "text": [
      "{'transaction_id': 'dae6ed07-20d7-44b0-b315-072c6f270468', 'customer_id': 9397, 'transaction_timestamp': '2024-07-10T09:55:18.877769', 'merchant': 'Cek Min', 'transaction_method': 'BRI', 'transaction_amt': 185731.41}\n",
      "{'transaction_id': 'ab07b8a9-4fe9-4185-9db9-16708a4a1f04', 'customer_id': 8231, 'transaction_timestamp': '2024-07-10T09:55:19.384689', 'merchant': 'McDonalds', 'transaction_method': 'BCA', 'transaction_amt': 427372.12}\n",
      "{'transaction_id': '63512fcf-de76-46bf-97b3-dcd9cb316dbb', 'customer_id': 4059, 'transaction_timestamp': '2024-07-10T09:55:19.885803', 'merchant': 'Sour Sally', 'transaction_method': 'BCA', 'transaction_amt': 78758.74}\n",
      "{'transaction_id': 'f334cc96-702e-4af8-a1c5-4c2eb521b4a8', 'customer_id': 7945, 'transaction_timestamp': '2024-07-10T09:55:20.387421', 'merchant': 'McDonalds', 'transaction_method': 'BTN', 'transaction_amt': 763617.45}\n",
      "{'transaction_id': '960b549f-d17c-452e-aa41-fe8c502d02d9', 'customer_id': 5913, 'transaction_timestamp': '2024-07-10T09:55:20.888888', 'merchant': 'Warung Zaonk', 'transaction_method': 'Mandiri', 'transaction_amt': 337846.14}\n",
      "{'transaction_id': '521ce0dc-de1c-41bc-9b08-b3a1f8a387e7', 'customer_id': 3117, 'transaction_timestamp': '2024-07-10T09:55:21.389904', 'merchant': 'Soto Semut', 'transaction_method': 'CIMB Niaga', 'transaction_amt': 513682.55}\n",
      "{'transaction_id': '48ccd8ee-defc-4f30-b69b-5d3c46f233ef', 'customer_id': 4227, 'transaction_timestamp': '2024-07-10T09:55:21.891252', 'merchant': 'Soto Semut', 'transaction_method': 'Mandiri', 'transaction_amt': 48287.08}\n",
      "{'transaction_id': '7b341076-3f5e-48e6-82b5-7468d305adf3', 'customer_id': 2841, 'transaction_timestamp': '2024-07-10T09:55:22.392356', 'merchant': 'KFC', 'transaction_method': 'Mandiri', 'transaction_amt': 572950.57}\n",
      "{'transaction_id': 'b918faf1-3f64-4b75-a1e7-ff9e31f95df5', 'customer_id': 8737, 'transaction_timestamp': '2024-07-10T09:55:22.893595', 'merchant': 'Sour Sally', 'transaction_method': 'BNI', 'transaction_amt': 21402.44}\n"
     ]
    }
   ],
   "source": []
  },
  {
   "cell_type": "code",
   "execution_count": 13,
   "metadata": {},
   "outputs": [],
   "source": [
    "producer.close()"
   ]
  },
  {
   "cell_type": "code",
   "execution_count": 7,
   "metadata": {},
   "outputs": [
    {
     "name": "stdout",
     "output_type": "stream",
     "text": [
      "b'{\"transaction_id\": \"3a6cbb88-7981-4f40-be50-71e0439c5498\", \"customer_id\": 1474, \"transaction_timestamp\": \"2024-07-10T09:29:45.447735\", \"merchant\": \"Sour Sally\", \"transaction_method\": \"BNI\", \"transaction_amt\": 915510.29}'\n"
     ]
    }
   ],
   "source": [
    "transaction = generate_transactions()\n",
    "print(json.dumps(transaction).encode('utf-8'))"
   ]
  }
 ],
 "metadata": {
  "kernelspec": {
   "display_name": "Python 3",
   "language": "python",
   "name": "python3"
  },
  "language_info": {
   "codemirror_mode": {
    "name": "ipython",
    "version": 3
   },
   "file_extension": ".py",
   "mimetype": "text/x-python",
   "name": "python",
   "nbconvert_exporter": "python",
   "pygments_lexer": "ipython3",
   "version": "3.9.0"
  }
 },
 "nbformat": 4,
 "nbformat_minor": 2
}
